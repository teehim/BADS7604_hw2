{
 "cells": [
  {
   "cell_type": "code",
   "execution_count": 3,
   "metadata": {},
   "outputs": [
    {
     "name": "stdout",
     "output_type": "stream",
     "text": [
      "GPU 0: NVIDIA GeForce RTX 3080 (UUID: GPU-36022ad1-3b01-52a9-f671-0142eff32f72)\n"
     ]
    }
   ],
   "source": [
    "!nvidia-smi -L"
   ]
  },
  {
   "cell_type": "code",
   "execution_count": 4,
   "metadata": {},
   "outputs": [
    {
     "name": "stdout",
     "output_type": "stream",
     "text": [
      "TensorFlow 2.7.0\n",
      "tf.keras.backend.image_data_format() = channels_last\n",
      "TensorFlow detected 1 GPU(s):\n",
      ".... GPU No. 0: Name = /physical_device:GPU:0 , Type = GPU\n"
     ]
    }
   ],
   "source": [
    "import tensorflow as tf\n",
    "\n",
    "print(f\"TensorFlow {tf.__version__}\")\n",
    "print(f\"tf.keras.backend.image_data_format() = {tf.keras.backend.image_data_format()}\" )\n",
    "\n",
    "gpus = tf.config.list_physical_devices('GPU')\n",
    "print( f\"TensorFlow detected { len(gpus) } GPU(s):\" )\n",
    "for i, gpu in enumerate(gpus):\n",
    "    print( f\".... GPU No. {i}: Name = {gpu.name} , Type = {gpu.device_type}\" )"
   ]
  },
  {
   "cell_type": "code",
   "execution_count": 5,
   "metadata": {},
   "outputs": [],
   "source": [
    "import numpy as np\n",
    "import matplotlib.pyplot as plt\n",
    "import pandas as pd\n",
    "from os import listdir\n",
    "from os.path import isfile, join, isdir\n",
    "from sklearn.model_selection import train_test_split\n",
    "import cv2 as cv\n",
    "\n",
    "np.random.seed(88)\n",
    "tf.random.set_seed(88)"
   ]
  },
  {
   "cell_type": "code",
   "execution_count": 6,
   "metadata": {},
   "outputs": [],
   "source": [
    "def get_file_from_dir(dir):\n",
    "    files = []\n",
    "    for f in listdir(dir):\n",
    "        if isfile(join(dir,f)):\n",
    "            files.append(join(dir, f))\n",
    "        elif isdir(join(dir,f)):\n",
    "            files = files + get_file_from_dir(join(dir, f))\n",
    "    return files"
   ]
  },
  {
   "cell_type": "code",
   "execution_count": 7,
   "metadata": {},
   "outputs": [
    {
     "name": "stdout",
     "output_type": "stream",
     "text": [
      "Real Dog: 471 images\n",
      "Toy Dog: 677 images\n"
     ]
    }
   ],
   "source": [
    "real_dog_path = \"./Real Dog/All\"\n",
    "toy_dog_path = \"./Toy Dog/All\"\n",
    "\n",
    "real_dog_imgs = []\n",
    "real_dog_imgs = get_file_from_dir(real_dog_path)\n",
    "print(f\"Real Dog: {len(real_dog_imgs)} images\")\n",
    "\n",
    "toy_dog_imgs = []\n",
    "toy_dog_imgs = get_file_from_dir(toy_dog_path)\n",
    "print(f\"Toy Dog: {len(toy_dog_imgs)} images\")"
   ]
  },
  {
   "cell_type": "code",
   "execution_count": 8,
   "metadata": {},
   "outputs": [
    {
     "data": {
      "text/html": [
       "<div>\n",
       "<style scoped>\n",
       "    .dataframe tbody tr th:only-of-type {\n",
       "        vertical-align: middle;\n",
       "    }\n",
       "\n",
       "    .dataframe tbody tr th {\n",
       "        vertical-align: top;\n",
       "    }\n",
       "\n",
       "    .dataframe thead th {\n",
       "        text-align: right;\n",
       "    }\n",
       "</style>\n",
       "<table border=\"1\" class=\"dataframe\">\n",
       "  <thead>\n",
       "    <tr style=\"text-align: right;\">\n",
       "      <th></th>\n",
       "      <th>img_path</th>\n",
       "      <th>class</th>\n",
       "    </tr>\n",
       "  </thead>\n",
       "  <tbody>\n",
       "    <tr>\n",
       "      <th>0</th>\n",
       "      <td>./Real Dog/All\\001.jpg</td>\n",
       "      <td>0</td>\n",
       "    </tr>\n",
       "    <tr>\n",
       "      <th>1</th>\n",
       "      <td>./Real Dog/All\\002.jpg</td>\n",
       "      <td>0</td>\n",
       "    </tr>\n",
       "    <tr>\n",
       "      <th>2</th>\n",
       "      <td>./Real Dog/All\\003.jpg</td>\n",
       "      <td>0</td>\n",
       "    </tr>\n",
       "    <tr>\n",
       "      <th>3</th>\n",
       "      <td>./Real Dog/All\\004.jpg</td>\n",
       "      <td>0</td>\n",
       "    </tr>\n",
       "    <tr>\n",
       "      <th>4</th>\n",
       "      <td>./Real Dog/All\\005.jpg</td>\n",
       "      <td>0</td>\n",
       "    </tr>\n",
       "    <tr>\n",
       "      <th>...</th>\n",
       "      <td>...</td>\n",
       "      <td>...</td>\n",
       "    </tr>\n",
       "    <tr>\n",
       "      <th>1143</th>\n",
       "      <td>./Toy Dog/All\\yomiko classics - Google Search.jpg</td>\n",
       "      <td>1</td>\n",
       "    </tr>\n",
       "    <tr>\n",
       "      <th>1144</th>\n",
       "      <td>./Toy Dog/All\\_Arctic Fox 7__ Wild Republic Pl...</td>\n",
       "      <td>1</td>\n",
       "    </tr>\n",
       "    <tr>\n",
       "      <th>1145</th>\n",
       "      <td>./Toy Dog/All\\➶𝑰𝒎𝒂𝒈𝒊𝒏𝒆𝒔➷ ᵗᵉᵉⁿ ʷᵒˡᶠ.jpg</td>\n",
       "      <td>1</td>\n",
       "    </tr>\n",
       "    <tr>\n",
       "      <th>1146</th>\n",
       "      <td>./Toy Dog/All\\犬好き必見！世界にひとつの愛犬グッズをオーダーメイド.jpg</td>\n",
       "      <td>1</td>\n",
       "    </tr>\n",
       "    <tr>\n",
       "      <th>1147</th>\n",
       "      <td>./Toy Dog/All\\👌ÇORAPTAN OYUNCAK KÖPEK_😍Yapılış...</td>\n",
       "      <td>1</td>\n",
       "    </tr>\n",
       "  </tbody>\n",
       "</table>\n",
       "<p>1148 rows × 2 columns</p>\n",
       "</div>"
      ],
      "text/plain": [
       "                                               img_path  class\n",
       "0                                ./Real Dog/All\\001.jpg      0\n",
       "1                                ./Real Dog/All\\002.jpg      0\n",
       "2                                ./Real Dog/All\\003.jpg      0\n",
       "3                                ./Real Dog/All\\004.jpg      0\n",
       "4                                ./Real Dog/All\\005.jpg      0\n",
       "...                                                 ...    ...\n",
       "1143  ./Toy Dog/All\\yomiko classics - Google Search.jpg      1\n",
       "1144  ./Toy Dog/All\\_Arctic Fox 7__ Wild Republic Pl...      1\n",
       "1145             ./Toy Dog/All\\➶𝑰𝒎𝒂𝒈𝒊𝒏𝒆𝒔➷ ᵗᵉᵉⁿ ʷᵒˡᶠ.jpg      1\n",
       "1146       ./Toy Dog/All\\犬好き必見！世界にひとつの愛犬グッズをオーダーメイド.jpg      1\n",
       "1147  ./Toy Dog/All\\👌ÇORAPTAN OYUNCAK KÖPEK_😍Yapılış...      1\n",
       "\n",
       "[1148 rows x 2 columns]"
      ]
     },
     "execution_count": 8,
     "metadata": {},
     "output_type": "execute_result"
    }
   ],
   "source": [
    "real_dog_df = pd.DataFrame()\n",
    "real_dog_df[\"img_path\"] = real_dog_imgs\n",
    "real_dog_df[\"class\"] = 0\n",
    "\n",
    "toy_dog_df = pd.DataFrame()\n",
    "toy_dog_df[\"img_path\"] = toy_dog_imgs\n",
    "toy_dog_df[\"class\"] = 1\n",
    "\n",
    "dog_df = pd.concat([real_dog_df, toy_dog_df])\n",
    "dog_df.reset_index(drop=True, inplace=True)\n",
    "dog_df"
   ]
  },
  {
   "cell_type": "code",
   "execution_count": 9,
   "metadata": {},
   "outputs": [],
   "source": [
    "def preprocess_img(path):\n",
    "    img = tf.keras.preprocessing.image.load_img(path, target_size=(224,224))\n",
    "    x = tf.keras.preprocessing.image.img_to_array(img)\n",
    "    x = tf.keras.applications.vgg16.preprocess_input(x)\n",
    "    return x"
   ]
  },
  {
   "cell_type": "code",
   "execution_count": 10,
   "metadata": {},
   "outputs": [],
   "source": [
    "X_train_df,X_test_df,y_train,y_test = train_test_split(dog_df,dog_df[\"class\"],test_size=0.3,random_state=88)"
   ]
  },
  {
   "cell_type": "code",
   "execution_count": 11,
   "metadata": {},
   "outputs": [],
   "source": [
    "X_train = []\n",
    "y_train = []\n",
    "X_test = []\n",
    "y_test = []\n",
    "\n",
    "for i in range(len(X_train_df)):\n",
    "    img_paths = X_train_df['img_path'].to_list()\n",
    "    classes = X_train_df['class'].to_list()\n",
    "    c = np.zeros((2))\n",
    "    c[classes[i]] = 1\n",
    "    X_train.append(preprocess_img(img_paths[i]))\n",
    "    y_train.append(c)\n",
    "\n",
    "for i in range(len(X_test_df)):\n",
    "    img_paths = X_test_df['img_path'].to_list()\n",
    "    classes = X_test_df['class'].to_list()\n",
    "    c = np.zeros((2))\n",
    "    c[classes[i]] = 1\n",
    "    X_test.append(preprocess_img(img_paths[i]))\n",
    "    y_test.append(c)\n",
    "\n",
    "X_train = np.array(X_train)\n",
    "y_train = np.array(y_train)\n",
    "X_test = np.array(X_test)\n",
    "y_test = np.array(y_test)"
   ]
  },
  {
   "cell_type": "code",
   "execution_count": 12,
   "metadata": {},
   "outputs": [
    {
     "data": {
      "text/html": [
       "<div>\n",
       "<style scoped>\n",
       "    .dataframe tbody tr th:only-of-type {\n",
       "        vertical-align: middle;\n",
       "    }\n",
       "\n",
       "    .dataframe tbody tr th {\n",
       "        vertical-align: top;\n",
       "    }\n",
       "\n",
       "    .dataframe thead th {\n",
       "        text-align: right;\n",
       "    }\n",
       "</style>\n",
       "<table border=\"1\" class=\"dataframe\">\n",
       "  <thead>\n",
       "    <tr style=\"text-align: right;\">\n",
       "      <th></th>\n",
       "      <th>img_path</th>\n",
       "      <th>class</th>\n",
       "    </tr>\n",
       "  </thead>\n",
       "  <tbody>\n",
       "    <tr>\n",
       "      <th>272</th>\n",
       "      <td>./Real Dog/All\\pexels-anna-shvets-4588435.jpg</td>\n",
       "      <td>0</td>\n",
       "    </tr>\n",
       "    <tr>\n",
       "      <th>9</th>\n",
       "      <td>./Real Dog/All\\011.jpg</td>\n",
       "      <td>0</td>\n",
       "    </tr>\n",
       "    <tr>\n",
       "      <th>36</th>\n",
       "      <td>./Real Dog/All\\15285387468_5816527b09_c.jpg</td>\n",
       "      <td>0</td>\n",
       "    </tr>\n",
       "    <tr>\n",
       "      <th>656</th>\n",
       "      <td>./Toy Dog/All\\Baby Ganz and Kids Collection _ ...</td>\n",
       "      <td>1</td>\n",
       "    </tr>\n",
       "    <tr>\n",
       "      <th>847</th>\n",
       "      <td>./Toy Dog/All\\istockphoto-1263688961-612x612.jpg</td>\n",
       "      <td>1</td>\n",
       "    </tr>\n",
       "    <tr>\n",
       "      <th>...</th>\n",
       "      <td>...</td>\n",
       "      <td>...</td>\n",
       "    </tr>\n",
       "    <tr>\n",
       "      <th>864</th>\n",
       "      <td>./Toy Dog/All\\istockphoto-1314270336-612x612.jpg</td>\n",
       "      <td>1</td>\n",
       "    </tr>\n",
       "    <tr>\n",
       "      <th>180</th>\n",
       "      <td>./Real Dog/All\\dog-g64f8755a3_640.jpg</td>\n",
       "      <td>0</td>\n",
       "    </tr>\n",
       "    <tr>\n",
       "      <th>330</th>\n",
       "      <td>./Real Dog/All\\pexels-jens-mahnke-776078.jpg</td>\n",
       "      <td>0</td>\n",
       "    </tr>\n",
       "    <tr>\n",
       "      <th>151</th>\n",
       "      <td>./Real Dog/All\\Cute.jpg</td>\n",
       "      <td>0</td>\n",
       "    </tr>\n",
       "    <tr>\n",
       "      <th>653</th>\n",
       "      <td>./Toy Dog/All\\Baby Ganz and Kids Collection _ ...</td>\n",
       "      <td>1</td>\n",
       "    </tr>\n",
       "  </tbody>\n",
       "</table>\n",
       "<p>345 rows × 2 columns</p>\n",
       "</div>"
      ],
      "text/plain": [
       "                                              img_path  class\n",
       "272      ./Real Dog/All\\pexels-anna-shvets-4588435.jpg      0\n",
       "9                               ./Real Dog/All\\011.jpg      0\n",
       "36         ./Real Dog/All\\15285387468_5816527b09_c.jpg      0\n",
       "656  ./Toy Dog/All\\Baby Ganz and Kids Collection _ ...      1\n",
       "847   ./Toy Dog/All\\istockphoto-1263688961-612x612.jpg      1\n",
       "..                                                 ...    ...\n",
       "864   ./Toy Dog/All\\istockphoto-1314270336-612x612.jpg      1\n",
       "180              ./Real Dog/All\\dog-g64f8755a3_640.jpg      0\n",
       "330       ./Real Dog/All\\pexels-jens-mahnke-776078.jpg      0\n",
       "151                            ./Real Dog/All\\Cute.jpg      0\n",
       "653  ./Toy Dog/All\\Baby Ganz and Kids Collection _ ...      1\n",
       "\n",
       "[345 rows x 2 columns]"
      ]
     },
     "execution_count": 12,
     "metadata": {},
     "output_type": "execute_result"
    }
   ],
   "source": [
    "X_test_df"
   ]
  },
  {
   "cell_type": "code",
   "execution_count": 13,
   "metadata": {},
   "outputs": [
    {
     "name": "stdout",
     "output_type": "stream",
     "text": [
      "Model: \"vgg16\"\n",
      "_________________________________________________________________\n",
      " Layer (type)                Output Shape              Param #   \n",
      "=================================================================\n",
      " input_1 (InputLayer)        [(None, 224, 224, 3)]     0         \n",
      "                                                                 \n",
      " block1_conv1 (Conv2D)       (None, 224, 224, 64)      1792      \n",
      "                                                                 \n",
      " block1_conv2 (Conv2D)       (None, 224, 224, 64)      36928     \n",
      "                                                                 \n",
      " block1_pool (MaxPooling2D)  (None, 112, 112, 64)      0         \n",
      "                                                                 \n",
      " block2_conv1 (Conv2D)       (None, 112, 112, 128)     73856     \n",
      "                                                                 \n",
      " block2_conv2 (Conv2D)       (None, 112, 112, 128)     147584    \n",
      "                                                                 \n",
      " block2_pool (MaxPooling2D)  (None, 56, 56, 128)       0         \n",
      "                                                                 \n",
      " block3_conv1 (Conv2D)       (None, 56, 56, 256)       295168    \n",
      "                                                                 \n",
      " block3_conv2 (Conv2D)       (None, 56, 56, 256)       590080    \n",
      "                                                                 \n",
      " block3_conv3 (Conv2D)       (None, 56, 56, 256)       590080    \n",
      "                                                                 \n",
      " block3_pool (MaxPooling2D)  (None, 28, 28, 256)       0         \n",
      "                                                                 \n",
      " block4_conv1 (Conv2D)       (None, 28, 28, 512)       1180160   \n",
      "                                                                 \n",
      " block4_conv2 (Conv2D)       (None, 28, 28, 512)       2359808   \n",
      "                                                                 \n",
      " block4_conv3 (Conv2D)       (None, 28, 28, 512)       2359808   \n",
      "                                                                 \n",
      " block4_pool (MaxPooling2D)  (None, 14, 14, 512)       0         \n",
      "                                                                 \n",
      " block5_conv1 (Conv2D)       (None, 14, 14, 512)       2359808   \n",
      "                                                                 \n",
      " block5_conv2 (Conv2D)       (None, 14, 14, 512)       2359808   \n",
      "                                                                 \n",
      " block5_conv3 (Conv2D)       (None, 14, 14, 512)       2359808   \n",
      "                                                                 \n",
      " block5_pool (MaxPooling2D)  (None, 7, 7, 512)         0         \n",
      "                                                                 \n",
      " flatten (Flatten)           (None, 25088)             0         \n",
      "                                                                 \n",
      " fc1 (Dense)                 (None, 4096)              102764544 \n",
      "                                                                 \n",
      " fc2 (Dense)                 (None, 4096)              16781312  \n",
      "                                                                 \n",
      " predictions (Dense)         (None, 1000)              4097000   \n",
      "                                                                 \n",
      "=================================================================\n",
      "Total params: 138,357,544\n",
      "Trainable params: 138,357,544\n",
      "Non-trainable params: 0\n",
      "_________________________________________________________________\n"
     ]
    }
   ],
   "source": [
    "vgg = tf.keras.applications.vgg16.VGG16(weights=\"imagenet\", include_top=True)\n",
    "\n",
    "vgg.summary()"
   ]
  },
  {
   "cell_type": "code",
   "execution_count": 14,
   "metadata": {},
   "outputs": [],
   "source": [
    "pred_classes = []\n",
    "for x in X_test:\n",
    "    pred = vgg.predict(np.expand_dims(x,axis=0))\n",
    "\n",
    "    predictions = tf.keras.applications.vgg16.decode_predictions(pred, top=1)[0]\n",
    "    pred_classes.append(predictions[0][1])\n"
   ]
  },
  {
   "cell_type": "code",
   "execution_count": 15,
   "metadata": {},
   "outputs": [],
   "source": [
    "dog_label = [\"Chihuahua\",\"Japanese_spaniel\",\"Maltese_dog\",\"Maltese_terrier\",\"Maltese\",\"Pekinese\",\"Pekingese\",\"Peke\",\"Shih-Tzu\",\n",
    "\"Blenheim_spaniel\",\"papillon\",\"Rhodesian_ridgeback\",\"Afghan_hound\",\"Afghan\",\"basset\",\"basset_hound\",\n",
    "\"beagle\",\"bloodhound\",\"sleuthhound\",\"bluetick\",\"black-and-tan_coonhound\",\"Walker_hound\",\"Walker_foxhound\",\"English_foxhound\",\n",
    "\"redbone\",\"borzoi\",\"Russian_wolfhound\",\"Irish_wolfhound\",\"Italian_greyhound\",\"whippet\",\"Ibizan_hound\",\"Ibizan_Podenco\",\n",
    "\"Norwegian_elkhound\",\"elkhound\",\"otterhound\",\"otter_hound\",\"Saluki\",\"gazelle_hound\",\"Scottish_deerhound\",\"deerhound\",\"Weimaraner\",\n",
    "\"Staffordshire_bullterrier\",\"Staffordshire_bull_terrier\",\"American_Staffordshire_terrier\",\"Staffordshire_terrier\",\"American_pit_bull_rrier\",\n",
    "\"pit_bull_terrier'\",\"Bedlington_terrier\",\"Border_terrier\",\"Kerry_blue_terrier\",\"Irish_terrier\",\"Norfolk_terrier\",\"Norwich_terrier\",\n",
    "\"Yorkshire_terrier\",\"wire-haired_fox_terrier\",\"Lakeland_terrier\",\"Sealyham_terrier\",\"Sealyham\",\"Airedale\",\"Airedale_terrier\",\"cairn\",\n",
    "\"cairn_terrier\",\"Australian_terrier\",\"Dandie_Dinmont\",\"Dandie_Dinmont_terrier\",\"Boston_bull\",\"Boston_terrier\",\n",
    "\"giant_schnauzer\",\"standard_schnauzer\",\"Scotch_terrier\",\"Scottish_terrier\",\"Scottie\",\"Tibetan_terrier\",\"chrysanthemum_dog\",\"silky_terrier\",\n",
    "\"Sydney_silky\",\"soft-coated_wheaten_terrier\",\"West_Highland_white_terrier\",\"Lhasa\",\"Lhasa_apso\",\"flat-coated_retriever\",\"curly-coated_retriever\",\n",
    "\"golden_retriever\",\"Labrador_retriever\",\"Chesapeake_Bay_retriever\",\"German_short-haired_pointer\",\"vizsla\",\"Hungarian_pointer\",\"English_setter\",\n",
    "\"Irish_setter\",\"red_setter\",\"Gordon_setter\",\"Brittany_spaniel\",\"clumber\",\"clumber_spaniel\",\"English_springer\",\"English_springer_spaniel\",\n",
    "\"Welsh_springer_spaniel\",\"cocker_spaniel\",\"English_cocker_spaniel\",\"cocker\",\"Sussex_spaniel\",\"Irish_water_spaniel\",\"kuvasz\",\"schipperke\",\n",
    "\"groenendael\",\"malinois\",\"briard\",\"kelpie\",\"komondor\",\"Old_English_sheepdog\",\"bobtail\",\"Shetland_sheepdog\",\"Shetland_sheep_dog\",\"Shetland\",\n",
    "\"collie\",\"Border_collie\",\"Bouvier_des_Flandres\",\"Bouviers_des_Flandres\",\"Rottweiler\",\"German_shepherd\",\"German_shepherd_dog\",\"German_police_dog\",\n",
    "\"alsatian\",\"Doberman\",\"Doberman_pinscher\",\"Greater_Swiss_Mountain_dog\",\"Bernese_mountain_dog\",\"Appenzeller\",\"EntleBucher\",\n",
    "\"boxer\",\"bull_mastiff\",\"Tibetan_mastiff\",\"French_bulldog\",\"Great_Dane\",\"Saint_Bernard\",\"St_Bernard\",\"Eskimo_dog\",\"husky\",\"malamute\",\"malemute\",\n",
    "\"Alaskan_malamute\",\"Siberian_husky\",\"dalmatian\",\"coach_dog\",\"carriage_dog\",\"affenpinscher\",\"monkey_pinscher\",\"monkey_dog\",\"basenji\",\"pug\",\"pug-dog\",\n",
    "\"Leonberg\",\"Newfoundland\",\"Newfoundland_dog\",\"Great_Pyrenees\",\"Samoyed\",\"Samoyede\",\"Pomeranian\",\"chow\",\"chow_chow\",\"keeshond\",\"Brabancon_griffon\",\n",
    "\"Pembroke\",\"Pembroke_Welsh_corgi\",\"Cardigan\",\"Cardigan_Welsh_corgi\",\"standard_poodle\",\"Mexican_hairless\",\n",
    "\"timber_wolf\",\"grey_wolf\",\"gray_wolf\",\"Canis_lupus\",\"white_wolf\",\"Arctic_wolf\",\"Canis_lupus_tundrarum\",\"red_wolf\",\"maned_wolf\",\"Canis_rufus\",\"Canis_niger\",\n",
    "\"coyote\",\"prairie_wolf\",\"brush_wolf\",\"Canis_latrans\",\"dingo\",\"warrigal\",\"warragal\",\"Canis_dingo\",\"dhole\",\"Cuon_alpinus\",\n",
    "\"African_hunting_dog\",\"hyena_dog\",\"Cape_hunting_dog\",\"Lycaon_pictus\",\"hyena\",\"hyaena\",\"red_fox\",\"Vulpes_vulpes\",\"kit_fox\",\"Vulpes_macrotis\",\n",
    "\"Arctic_fox\",\"white_fox\",\"Alopex_lagopus\",\"grey_fox\",\"gray_fox\",\"Urocyon_cinereoargenteus\"]\n",
    "toy_label = ['miniature_poodle','toy_terrier','toy_poodle','miniature_schnauzer','miniature_pinscher']"
   ]
  },
  {
   "cell_type": "code",
   "execution_count": 16,
   "metadata": {},
   "outputs": [
    {
     "name": "stderr",
     "output_type": "stream",
     "text": [
      "C:\\Users\\TeeHi\\AppData\\Local\\Temp/ipykernel_10212/1718679197.py:1: SettingWithCopyWarning: \n",
      "A value is trying to be set on a copy of a slice from a DataFrame.\n",
      "Try using .loc[row_indexer,col_indexer] = value instead\n",
      "\n",
      "See the caveats in the documentation: https://pandas.pydata.org/pandas-docs/stable/user_guide/indexing.html#returning-a-view-versus-a-copy\n",
      "  X_test_df[\"pred\"] = pred_classes\n"
     ]
    }
   ],
   "source": [
    "X_test_df[\"pred\"] = pred_classes"
   ]
  },
  {
   "cell_type": "code",
   "execution_count": 17,
   "metadata": {},
   "outputs": [
    {
     "name": "stderr",
     "output_type": "stream",
     "text": [
      "C:\\Users\\TeeHi\\AppData\\Local\\Temp/ipykernel_10212/1909751526.py:1: SettingWithCopyWarning: \n",
      "A value is trying to be set on a copy of a slice from a DataFrame.\n",
      "Try using .loc[row_indexer,col_indexer] = value instead\n",
      "\n",
      "See the caveats in the documentation: https://pandas.pydata.org/pandas-docs/stable/user_guide/indexing.html#returning-a-view-versus-a-copy\n",
      "  X_test_df[\"pred_class\"] = 0\n"
     ]
    },
    {
     "data": {
      "text/plain": [
       "0.5594202898550724"
      ]
     },
     "execution_count": 17,
     "metadata": {},
     "output_type": "execute_result"
    }
   ],
   "source": [
    "X_test_df[\"pred_class\"] = 0\n",
    "X_test_df.loc[X_test_df[\"pred\"].isin(dog_label),\"pred_class\"] = 1\n",
    "X_test_df.loc[X_test_df[\"pred\"].isin(toy_label),\"pred_class\"] = 1\n",
    "len(X_test_df[X_test_df[\"pred_class\"] == 1])/len(X_test_df)"
   ]
  },
  {
   "cell_type": "code",
   "execution_count": 18,
   "metadata": {},
   "outputs": [
    {
     "data": {
      "text/plain": [
       "0.912751677852349"
      ]
     },
     "execution_count": 18,
     "metadata": {},
     "output_type": "execute_result"
    }
   ],
   "source": [
    "dog_res_df = X_test_df[X_test_df[\"class\"] == 0]\n",
    "len(dog_res_df[dog_res_df[\"pred_class\"] == 1])/len(dog_res_df)"
   ]
  },
  {
   "cell_type": "code",
   "execution_count": 19,
   "metadata": {},
   "outputs": [
    {
     "data": {
      "text/plain": [
       "0.29081632653061223"
      ]
     },
     "execution_count": 19,
     "metadata": {},
     "output_type": "execute_result"
    }
   ],
   "source": [
    "toy_res_df = X_test_df[X_test_df[\"class\"] == 1]\n",
    "len(toy_res_df[toy_res_df[\"pred_class\"] == 1])/len(toy_res_df)"
   ]
  },
  {
   "cell_type": "code",
   "execution_count": 20,
   "metadata": {},
   "outputs": [],
   "source": [
    "vgg_extractor = tf.keras.applications.vgg16.VGG16(weights=\"imagenet\", include_top=False, input_shape=(224,224,3))\n",
    "vgg_extractor.trainable = False\n",
    " \n",
    "x = vgg_extractor.output\n",
    "x = tf.keras.layers.Flatten()(x)\n",
    "x = tf.keras.layers.Dense(1024, activation='relu', name='lin1')(x)\n",
    "x = tf.keras.layers.Dense(2048, activation='relu', name='lin2')(x)\n",
    "x = tf.keras.layers.Dense(1024, activation='relu', name='lin3')(x)\n",
    "x = tf.keras.layers.Dropout(0.3)(x)\n",
    "new_outputs = tf.keras.layers.Dense(2, activation='softmax', name=\"output\")(x)"
   ]
  },
  {
   "cell_type": "code",
   "execution_count": 21,
   "metadata": {},
   "outputs": [
    {
     "name": "stdout",
     "output_type": "stream",
     "text": [
      "Model: \"model\"\n",
      "_________________________________________________________________\n",
      " Layer (type)                Output Shape              Param #   \n",
      "=================================================================\n",
      " input_2 (InputLayer)        [(None, 224, 224, 3)]     0         \n",
      "                                                                 \n",
      " block1_conv1 (Conv2D)       (None, 224, 224, 64)      1792      \n",
      "                                                                 \n",
      " block1_conv2 (Conv2D)       (None, 224, 224, 64)      36928     \n",
      "                                                                 \n",
      " block1_pool (MaxPooling2D)  (None, 112, 112, 64)      0         \n",
      "                                                                 \n",
      " block2_conv1 (Conv2D)       (None, 112, 112, 128)     73856     \n",
      "                                                                 \n",
      " block2_conv2 (Conv2D)       (None, 112, 112, 128)     147584    \n",
      "                                                                 \n",
      " block2_pool (MaxPooling2D)  (None, 56, 56, 128)       0         \n",
      "                                                                 \n",
      " block3_conv1 (Conv2D)       (None, 56, 56, 256)       295168    \n",
      "                                                                 \n",
      " block3_conv2 (Conv2D)       (None, 56, 56, 256)       590080    \n",
      "                                                                 \n",
      " block3_conv3 (Conv2D)       (None, 56, 56, 256)       590080    \n",
      "                                                                 \n",
      " block3_pool (MaxPooling2D)  (None, 28, 28, 256)       0         \n",
      "                                                                 \n",
      " block4_conv1 (Conv2D)       (None, 28, 28, 512)       1180160   \n",
      "                                                                 \n",
      " block4_conv2 (Conv2D)       (None, 28, 28, 512)       2359808   \n",
      "                                                                 \n",
      " block4_conv3 (Conv2D)       (None, 28, 28, 512)       2359808   \n",
      "                                                                 \n",
      " block4_pool (MaxPooling2D)  (None, 14, 14, 512)       0         \n",
      "                                                                 \n",
      " block5_conv1 (Conv2D)       (None, 14, 14, 512)       2359808   \n",
      "                                                                 \n",
      " block5_conv2 (Conv2D)       (None, 14, 14, 512)       2359808   \n",
      "                                                                 \n",
      " block5_conv3 (Conv2D)       (None, 14, 14, 512)       2359808   \n",
      "                                                                 \n",
      " block5_pool (MaxPooling2D)  (None, 7, 7, 512)         0         \n",
      "                                                                 \n",
      " flatten (Flatten)           (None, 25088)             0         \n",
      "                                                                 \n",
      " lin1 (Dense)                (None, 1024)              25691136  \n",
      "                                                                 \n",
      " lin2 (Dense)                (None, 2048)              2099200   \n",
      "                                                                 \n",
      " lin3 (Dense)                (None, 1024)              2098176   \n",
      "                                                                 \n",
      " dropout (Dropout)           (None, 1024)              0         \n",
      "                                                                 \n",
      " output (Dense)              (None, 2)                 2050      \n",
      "                                                                 \n",
      "=================================================================\n",
      "Total params: 44,605,250\n",
      "Trainable params: 29,890,562\n",
      "Non-trainable params: 14,714,688\n",
      "_________________________________________________________________\n"
     ]
    }
   ],
   "source": [
    "new_model = tf.keras.models.Model(inputs=vgg_extractor.inputs, outputs=new_outputs)\n",
    "new_model.summary()"
   ]
  },
  {
   "cell_type": "code",
   "execution_count": 22,
   "metadata": {},
   "outputs": [],
   "source": [
    "new_model.compile(loss=tf.keras.losses.binary_crossentropy, optimizer=tf.keras.optimizers.Adam(), metrics=['accuracy'])\n",
    "\n",
    "checkpoint_filepath = \"bestmodel_epoch{epoch:02d}_valloss{val_loss:.2f}.hdf5\"\n",
    "model_checkpoint_callback = tf.keras.callbacks.ModelCheckpoint(filepath=checkpoint_filepath,\n",
    "                                                                save_weights_only=True,\n",
    "                                                                monitor='val_accuracy',\n",
    "                                                                mode='max',\n",
    "                                                                save_best_only=True)"
   ]
  },
  {
   "cell_type": "code",
   "execution_count": 23,
   "metadata": {},
   "outputs": [
    {
     "name": "stdout",
     "output_type": "stream",
     "text": [
      "Epoch 1/10\n",
      "9/9 [==============================] - 10s 755ms/step - loss: 29.0615 - accuracy: 0.8132 - val_loss: 4.2159 - val_accuracy: 0.9004\n",
      "Epoch 2/10\n",
      "9/9 [==============================] - 2s 204ms/step - loss: 0.8306 - accuracy: 0.9591 - val_loss: 0.7845 - val_accuracy: 0.9585\n",
      "Epoch 3/10\n",
      "9/9 [==============================] - 1s 153ms/step - loss: 0.0158 - accuracy: 0.9964 - val_loss: 0.7344 - val_accuracy: 0.9585\n",
      "Epoch 4/10\n",
      "9/9 [==============================] - 2s 199ms/step - loss: 0.0252 - accuracy: 0.9982 - val_loss: 0.7574 - val_accuracy: 0.9668\n",
      "Epoch 5/10\n",
      "9/9 [==============================] - 1s 153ms/step - loss: 0.0039 - accuracy: 1.0000 - val_loss: 0.8069 - val_accuracy: 0.9627\n",
      "Epoch 6/10\n",
      "9/9 [==============================] - 1s 152ms/step - loss: 6.0269e-05 - accuracy: 1.0000 - val_loss: 0.8228 - val_accuracy: 0.9585\n",
      "Epoch 7/10\n",
      "9/9 [==============================] - 1s 152ms/step - loss: 3.6598e-07 - accuracy: 1.0000 - val_loss: 0.8326 - val_accuracy: 0.9627\n",
      "Epoch 8/10\n",
      "9/9 [==============================] - 1s 151ms/step - loss: 2.1658e-06 - accuracy: 1.0000 - val_loss: 0.8379 - val_accuracy: 0.9627\n",
      "Epoch 9/10\n",
      "9/9 [==============================] - 1s 152ms/step - loss: 8.6975e-07 - accuracy: 1.0000 - val_loss: 0.8404 - val_accuracy: 0.9627\n",
      "Epoch 10/10\n",
      "9/9 [==============================] - 1s 150ms/step - loss: 6.5168e-07 - accuracy: 1.0000 - val_loss: 0.8415 - val_accuracy: 0.9668\n"
     ]
    }
   ],
   "source": [
    "history = new_model.fit(X_train, y_train, batch_size=64, epochs=10, verbose=1, validation_split=0.3, callbacks=[model_checkpoint_callback])"
   ]
  },
  {
   "cell_type": "code",
   "execution_count": 24,
   "metadata": {},
   "outputs": [
    {
     "data": {
      "image/png": "[encoded data removed]",
      "text/plain": [
       "<Figure size 1080x360 with 1 Axes>"
      ]
     },
     "metadata": {
      "needs_background": "light"
     },
     "output_type": "display_data"
    }
   ],
   "source": [
    "import matplotlib.pyplot as plt\n",
    "\n",
    "plt.figure(figsize=(15,5))\n",
    "plt.plot(history.history['accuracy'])\n",
    "plt.plot(history.history['val_accuracy'])\n",
    "plt.title('Train accuracy')\n",
    "plt.ylabel(\"accuracy\")\n",
    "plt.xlabel(\"epoch\")\n",
    "plt.legend(['train', 'val'], loc='upper left')\n",
    "plt.grid()\n",
    "plt.show()"
   ]
  },
  {
   "cell_type": "code",
   "execution_count": 25,
   "metadata": {},
   "outputs": [
    {
     "data": {
      "image/png": "[encoded data removed]",
      "text/plain": [
       "<Figure size 1080x360 with 1 Axes>"
      ]
     },
     "metadata": {
      "needs_background": "light"
     },
     "output_type": "display_data"
    }
   ],
   "source": [
    "plt.figure(figsize=(15,5))\n",
    "plt.plot(history.history['loss'])\n",
    "plt.plot(history.history['val_loss'])\n",
    "plt.title('Train loss')\n",
    "plt.ylabel(\"loss\")\n",
    "plt.xlabel(\"epoch\")\n",
    "plt.legend(['train', 'val'], loc='upper left')\n",
    "plt.grid()\n",
    "plt.show()"
   ]
  },
  {
   "cell_type": "code",
   "execution_count": 26,
   "metadata": {},
   "outputs": [
    {
     "name": "stdout",
     "output_type": "stream",
     "text": [
      "6/6 [==============================] - 1s 255ms/step - loss: 1.0847 - accuracy: 0.9594\n",
      "['loss', 'accuracy'] = [1.0847067832946777, 0.9594202637672424]\n"
     ]
    }
   ],
   "source": [
    "results = new_model.evaluate(X_test, y_test, batch_size = 64)\n",
    "print(f\"{new_model.metrics_names} = {results}\")"
   ]
  },
  {
   "cell_type": "code",
   "execution_count": 27,
   "metadata": {},
   "outputs": [],
   "source": [
    "pred_classes = []\n",
    "for x in X_test:\n",
    "    res = new_model.predict(np.expand_dims(x,axis=0))\n",
    "    pred = 0 if res[0][0] > res[0][1] else 1\n",
    "    pred_classes.append(pred)"
   ]
  },
  {
   "cell_type": "code",
   "execution_count": 28,
   "metadata": {},
   "outputs": [
    {
     "name": "stderr",
     "output_type": "stream",
     "text": [
      "C:\\Users\\TeeHi\\AppData\\Local\\Temp/ipykernel_10212/3742326457.py:1: SettingWithCopyWarning: \n",
      "A value is trying to be set on a copy of a slice from a DataFrame.\n",
      "Try using .loc[row_indexer,col_indexer] = value instead\n",
      "\n",
      "See the caveats in the documentation: https://pandas.pydata.org/pandas-docs/stable/user_guide/indexing.html#returning-a-view-versus-a-copy\n",
      "  X_test_df[\"pred_model\"] = pred_classes\n"
     ]
    },
    {
     "data": {
      "text/plain": [
       "0.9594202898550724"
      ]
     },
     "execution_count": 28,
     "metadata": {},
     "output_type": "execute_result"
    }
   ],
   "source": [
    "X_test_df[\"pred_model\"] = pred_classes\n",
    "\n",
    "len(X_test_df[X_test_df[\"pred_model\"] == X_test_df[\"class\"]])/len(X_test_df)"
   ]
  },
  {
   "cell_type": "code",
   "execution_count": 29,
   "metadata": {},
   "outputs": [
    {
     "data": {
      "text/plain": [
       "0.959731543624161"
      ]
     },
     "execution_count": 29,
     "metadata": {},
     "output_type": "execute_result"
    }
   ],
   "source": [
    "dog_res_df = X_test_df[X_test_df[\"class\"] == 0]\n",
    "len(dog_res_df[dog_res_df[\"pred_model\"] == dog_res_df[\"class\"]])/len(dog_res_df)"
   ]
  },
  {
   "cell_type": "code",
   "execution_count": 30,
   "metadata": {},
   "outputs": [
    {
     "data": {
      "text/plain": [
       "0.9591836734693877"
      ]
     },
     "execution_count": 30,
     "metadata": {},
     "output_type": "execute_result"
    }
   ],
   "source": [
    "toy_res_df = X_test_df[X_test_df[\"class\"] == 1]\n",
    "len(toy_res_df[toy_res_df[\"pred_model\"] == toy_res_df[\"class\"]])/len(toy_res_df)"
   ]
  },
  {
   "cell_type": "code",
   "execution_count": 31,
   "metadata": {},
   "outputs": [],
   "source": [
    "def alter_model_for_GradCAM(model, last_conv_layer_name):\n",
    "    last_conv_output = model.get_layer(last_conv_layer_name).output\n",
    "\n",
    "    old_weights = [ x.numpy() for x in model.layers[-1].weights]\n",
    "\n",
    "    new_config = model.layers[-1].get_config()\n",
    "    new_config['activation'] = tf.keras.activations.linear\n",
    "    new_config['name'] = 'predictions_linear'\n",
    "\n",
    "    out_linear = tf.keras.layers.Dense(**new_config)(model.layers[-2].output)\n",
    "    out_softmax = tf.keras.activations.softmax(out_linear)\n",
    "\n",
    "    new_model = tf.keras.Model(inputs=model.inputs, outputs=[out_softmax, out_linear, last_conv_output])\n",
    "    new_model.layers[-2].set_weights(old_weights)\n",
    "    return new_model"
   ]
  },
  {
   "cell_type": "code",
   "execution_count": 32,
   "metadata": {},
   "outputs": [
    {
     "name": "stdout",
     "output_type": "stream",
     "text": [
      "Model: \"model_1\"\n",
      "_________________________________________________________________\n",
      " Layer (type)                Output Shape              Param #   \n",
      "=================================================================\n",
      " input_2 (InputLayer)        [(None, 224, 224, 3)]     0         \n",
      "                                                                 \n",
      " block1_conv1 (Conv2D)       (None, 224, 224, 64)      1792      \n",
      "                                                                 \n",
      " block1_conv2 (Conv2D)       (None, 224, 224, 64)      36928     \n",
      "                                                                 \n",
      " block1_pool (MaxPooling2D)  (None, 112, 112, 64)      0         \n",
      "                                                                 \n",
      " block2_conv1 (Conv2D)       (None, 112, 112, 128)     73856     \n",
      "                                                                 \n",
      " block2_conv2 (Conv2D)       (None, 112, 112, 128)     147584    \n",
      "                                                                 \n",
      " block2_pool (MaxPooling2D)  (None, 56, 56, 128)       0         \n",
      "                                                                 \n",
      " block3_conv1 (Conv2D)       (None, 56, 56, 256)       295168    \n",
      "                                                                 \n",
      " block3_conv2 (Conv2D)       (None, 56, 56, 256)       590080    \n",
      "                                                                 \n",
      " block3_conv3 (Conv2D)       (None, 56, 56, 256)       590080    \n",
      "                                                                 \n",
      " block3_pool (MaxPooling2D)  (None, 28, 28, 256)       0         \n",
      "                                                                 \n",
      " block4_conv1 (Conv2D)       (None, 28, 28, 512)       1180160   \n",
      "                                                                 \n",
      " block4_conv2 (Conv2D)       (None, 28, 28, 512)       2359808   \n",
      "                                                                 \n",
      " block4_conv3 (Conv2D)       (None, 28, 28, 512)       2359808   \n",
      "                                                                 \n",
      " block4_pool (MaxPooling2D)  (None, 14, 14, 512)       0         \n",
      "                                                                 \n",
      " block5_conv1 (Conv2D)       (None, 14, 14, 512)       2359808   \n",
      "                                                                 \n",
      " block5_conv2 (Conv2D)       (None, 14, 14, 512)       2359808   \n",
      "                                                                 \n",
      " block5_conv3 (Conv2D)       (None, 14, 14, 512)       2359808   \n",
      "                                                                 \n",
      " block5_pool (MaxPooling2D)  (None, 7, 7, 512)         0         \n",
      "                                                                 \n",
      " flatten (Flatten)           (None, 25088)             0         \n",
      "                                                                 \n",
      " lin1 (Dense)                (None, 1024)              25691136  \n",
      "                                                                 \n",
      " lin2 (Dense)                (None, 2048)              2099200   \n",
      "                                                                 \n",
      " lin3 (Dense)                (None, 1024)              2098176   \n",
      "                                                                 \n",
      " dropout (Dropout)           (None, 1024)              0         \n",
      "                                                                 \n",
      " predictions_linear (Dense)  (None, 2)                 2050      \n",
      "                                                                 \n",
      " tf.nn.softmax (TFOpLambda)  (None, 2)                 0         \n",
      "                                                                 \n",
      "=================================================================\n",
      "Total params: 44,605,250\n",
      "Trainable params: 29,890,562\n",
      "Non-trainable params: 14,714,688\n",
      "_________________________________________________________________\n"
     ]
    }
   ],
   "source": [
    "gc_model = alter_model_for_GradCAM(new_model,\"block5_pool\")\n",
    "gc_model.summary()"
   ]
  },
  {
   "cell_type": "code",
   "execution_count": 33,
   "metadata": {},
   "outputs": [
    {
     "data": {
      "text/plain": [
       "array([[1.0000000e+00, 5.5299705e-22]], dtype=float32)"
      ]
     },
     "execution_count": 33,
     "metadata": {},
     "output_type": "execute_result"
    }
   ],
   "source": [
    "out_softmax = new_model.predict(np.expand_dims(X_test[0],axis=0))\n",
    "out_softmax"
   ]
  },
  {
   "cell_type": "code",
   "execution_count": 34,
   "metadata": {},
   "outputs": [
    {
     "data": {
      "text/plain": [
       "array([[1.0000000e+00, 5.5299705e-22]], dtype=float32)"
      ]
     },
     "execution_count": 34,
     "metadata": {},
     "output_type": "execute_result"
    }
   ],
   "source": [
    "out_softmax, out_linear, _ = gc_model.predict(np.expand_dims(X_test[0],axis=0))\n",
    "out_softmax"
   ]
  },
  {
   "cell_type": "code",
   "execution_count": 35,
   "metadata": {},
   "outputs": [],
   "source": [
    "def my_CNN_GradCAM(model, in_img, class_index):\n",
    "    in_img = tf.cast(in_img, tf.float32)\n",
    "\n",
    "    with tf.GradientTape() as tape:\n",
    "        tape.watch(in_img)\n",
    "        y_softmax, y_linear, last_conv_activation = model(in_img)\n",
    "        one_class_score = y_linear[..., class_index]\n",
    "    gradient = tape.gradient(one_class_score, last_conv_activation)\n",
    "\n",
    "    gradient = gradient.numpy().squeeze(axis=0)\n",
    "    alpha = np.mean(gradient, axis=(0,1))\n",
    "\n",
    "    last_conv_activation = last_conv_activation.numpy().squeeze(axis=0)\n",
    "    heatmap = np.dot(last_conv_activation, alpha)\n",
    "\n",
    "    heatmap = np.maximum(0, heatmap)\n",
    "\n",
    "    return heatmap"
   ]
  },
  {
   "cell_type": "code",
   "execution_count": 36,
   "metadata": {},
   "outputs": [
    {
     "data": {
      "image/png": "[encoded data removed]",
      "text/plain": [
       "<Figure size 720x360 with 2 Axes>"
      ]
     },
     "metadata": {
      "needs_background": "light"
     },
     "output_type": "display_data"
    },
    {
     "name": "stdout",
     "output_type": "stream",
     "text": [
      "1\n"
     ]
    }
   ],
   "source": [
    "index = 322\n",
    "heatmap = my_CNN_GradCAM(gc_model, np.expand_dims(X_test[index],axis=0), np.argmax(y_test[index]))\n",
    "\n",
    "fig = plt.figure(figsize=(10,5))\n",
    "\n",
    "ax = fig.add_subplot(1,2,1)\n",
    "img = tf.keras.preprocessing.image.load_img(X_test_df[\"img_path\"].to_list()[index], target_size=(224,224))\n",
    "img = tf.keras.preprocessing.image.img_to_array(img)\n",
    "ax.imshow(img.astype(np.uint8))\n",
    "alpha = 0.6\n",
    "im = ax.imshow(cv.resize(heatmap, img.shape[:2]), cmap=\"jet\", alpha=alpha)\n",
    "plt.colorbar(im, ax=ax)\n",
    "\n",
    "plt.show()\n",
    "print(np.argmax(y_test[index]))\n"
   ]
  }
 ],
 "metadata": {
  "interpreter": {
   "hash": "434141277e8413b8997d523066ef19065e0e36958ea48977488bcd79fce25129"
  },
  "kernelspec": {
   "display_name": "Python 3.8.5 ('inclass': venv)",
   "language": "python",
   "name": "python3"
  },
  "language_info": {
   "codemirror_mode": {
    "name": "ipython",
    "version": 3
   },
   "file_extension": ".py",
   "mimetype": "text/x-python",
   "name": "python",
   "nbconvert_exporter": "python",
   "pygments_lexer": "ipython3",
   "version": "3.8.5"
  },
  "orig_nbformat": 4
 },
 "nbformat": 4,
 "nbformat_minor": 2
}
